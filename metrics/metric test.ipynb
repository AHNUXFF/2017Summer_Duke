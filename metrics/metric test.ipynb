{
 "cells": [
  {
   "cell_type": "code",
   "execution_count": null,
   "metadata": {
    "collapsed": false
   },
   "outputs": [],
   "source": [
    "import pickle\n",
    "import numpy as np\n",
    "from eval_segm import *"
   ]
  },
  {
   "cell_type": "code",
   "execution_count": 22,
   "metadata": {
    "collapsed": false
   },
   "outputs": [
    {
     "name": "stdout",
     "output_type": "stream",
     "text": [
      "(10, 224, 224)\n",
      "(10, 224, 224)\n"
     ]
    }
   ],
   "source": [
    "with open('prediction.pickle','rb') as f:\n",
    "    [pred, gt] = pickle.load(f)\n",
    "    pred = np.squeeze(pred)\n",
    "print(pred.shape)\n",
    "print(gt.shape)"
   ]
  },
  {
   "cell_type": "code",
   "execution_count": 36,
   "metadata": {
    "collapsed": false
   },
   "outputs": [
    {
     "name": "stdout",
     "output_type": "stream",
     "text": [
      "0.606405452806\n",
      "0.369854789745\n",
      "0.297789100923\n",
      "0.499402093764\n"
     ]
    }
   ],
   "source": [
    "print(pixel_accuracy(pred[0,:,:], gt[0,:,:]))\n",
    "print(mean_accuracy(pred[0,:,:], gt[0,:,:]))\n",
    "print(mean_IU(pred[0,:,:], gt[0,:,:]))\n",
    "print(frequency_weighted_IU(pred[0,:,:], gt[0,:,:]))"
   ]
  },
  {
   "cell_type": "code",
   "execution_count": 34,
   "metadata": {
    "collapsed": false
   },
   "outputs": [
    {
     "name": "stdout",
     "output_type": "stream",
     "text": [
      "[  0   1   4  16  28  38  48  71  82 148]\n",
      "10\n",
      "(10, 224, 224)\n",
      "(10, 224, 224)\n"
     ]
    }
   ],
   "source": [
    "eval_segm = pred[0,:,:]\n",
    "    gt_segm = gt[0,:,:]\n",
    "    check_size(eval_segm, gt_segm)\n",
    "\n",
    "    cl, n_cl = extract_classes(gt_segm)\n",
    "    print(cl)\n",
    "    print(n_cl)\n",
    "    \n",
    "    eval_mask, gt_mask = extract_both_masks(eval_segm, gt_segm, cl, n_cl)\n",
    "    print(eval_mask.shape)\n",
    "    print(gt_mask.shape)\n",
    "    sum_n_ii = 0\n",
    "    sum_t_i  = 0\n",
    "\n",
    "    for i, c in enumerate(cl):\n",
    "        curr_eval_mask = eval_mask[i, :, :]\n",
    "        curr_gt_mask = gt_mask[i, :, :]\n",
    "\n",
    "        sum_n_ii += np.sum(np.logical_and(curr_eval_mask, curr_gt_mask))\n",
    "        sum_t_i  += np.sum(curr_gt_mask)\n",
    " \n",
    "    if (sum_t_i == 0):\n",
    "        pixel_accuracy_ = 0\n",
    "    else:\n",
    "        pixel_accuracy_ = sum_n_ii / sum_t_i"
   ]
  }
 ],
 "metadata": {
  "kernelspec": {
   "display_name": "Python 3",
   "language": "python",
   "name": "python3"
  },
  "language_info": {
   "codemirror_mode": {
    "name": "ipython",
    "version": 3.0
   },
   "file_extension": ".py",
   "mimetype": "text/x-python",
   "name": "python",
   "nbconvert_exporter": "python",
   "pygments_lexer": "ipython3",
   "version": "3.6.0"
  }
 },
 "nbformat": 4,
 "nbformat_minor": 0
}