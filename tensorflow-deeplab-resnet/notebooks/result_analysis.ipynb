{
 "cells": [
  {
   "cell_type": "code",
   "execution_count": 6,
   "metadata": {
    "collapsed": false
   },
   "outputs": [],
   "source": [
    "import scipy.misc as misc\n",
    "import os\n",
    "import numpy as np\n",
    "import sys\n",
    "import matplotlib.pyplot as plt\n",
    "%matplotlib inline\n",
    "\n",
    "from sklearn.metrics import precision_recall_curve\n",
    "from sklearn.metrics import f1_score\n",
    "sys.path.append(os.path.expanduser('~/Documents/zhenlinx/code/2017Summer/metrics'))\n",
    "from eval_segm import *\n",
    "from seg_metric import SegMetric"
   ]
  },
  {
   "cell_type": "markdown",
   "metadata": {},
   "source": [
    "# Evaludate results of DeepLab on Norfolk building images"
   ]
  },
  {
   "cell_type": "code",
   "execution_count": 8,
   "metadata": {
    "collapsed": false
   },
   "outputs": [
    {
     "name": "stdout",
     "output_type": "stream",
     "text": [
      "Evaluate batchsize20 LR1e-03 weight_decay0.0005\n",
      "mean_IoU of image Norfolk_01: 0.6257\n",
      "[0 1]\n"
     ]
    },
    {
     "ename": "ValueError",
     "evalue": "Target is multilabel-indicator but average='binary'. Please choose another average setting.",
     "output_type": "error",
     "traceback": [
      "\u001b[0;31m---------------------------------------------------------------------------\u001b[0m",
      "\u001b[0;31mValueError\u001b[0m                                Traceback (most recent call last)",
      "\u001b[0;32m<ipython-input-8-0665b16097c2>\u001b[0m in \u001b[0;36m<module>\u001b[0;34m()\u001b[0m\n\u001b[1;32m     32\u001b[0m                 \u001b[0mprint\u001b[0m\u001b[0;34m(\u001b[0m\u001b[0mnp\u001b[0m\u001b[0;34m.\u001b[0m\u001b[0munique\u001b[0m\u001b[0;34m(\u001b[0m\u001b[0mtruth\u001b[0m\u001b[0;34m)\u001b[0m\u001b[0;34m)\u001b[0m\u001b[0;34m\u001b[0m\u001b[0m\n\u001b[1;32m     33\u001b[0m \u001b[0;34m\u001b[0m\u001b[0m\n\u001b[0;32m---> 34\u001b[0;31m                 \u001b[0mprint\u001b[0m\u001b[0;34m(\u001b[0m\u001b[0mf1_score\u001b[0m\u001b[0;34m(\u001b[0m\u001b[0mtruth\u001b[0m\u001b[0;34m,\u001b[0m \u001b[0mpred_binary\u001b[0m\u001b[0;34m)\u001b[0m\u001b[0;34m)\u001b[0m\u001b[0;34m\u001b[0m\u001b[0m\n\u001b[0m\u001b[1;32m     35\u001b[0m \u001b[0;34m\u001b[0m\u001b[0m\n\u001b[1;32m     36\u001b[0m \u001b[0;34m\u001b[0m\u001b[0m\n",
      "\u001b[0;32m/home/helios/anaconda3/envs/TF/lib/python3.5/site-packages/sklearn/metrics/classification.py\u001b[0m in \u001b[0;36mf1_score\u001b[0;34m(y_true, y_pred, labels, pos_label, average, sample_weight)\u001b[0m\n\u001b[1;32m    690\u001b[0m     return fbeta_score(y_true, y_pred, 1, labels=labels,\n\u001b[1;32m    691\u001b[0m                        \u001b[0mpos_label\u001b[0m\u001b[0;34m=\u001b[0m\u001b[0mpos_label\u001b[0m\u001b[0;34m,\u001b[0m \u001b[0maverage\u001b[0m\u001b[0;34m=\u001b[0m\u001b[0maverage\u001b[0m\u001b[0;34m,\u001b[0m\u001b[0;34m\u001b[0m\u001b[0m\n\u001b[0;32m--> 692\u001b[0;31m                        sample_weight=sample_weight)\n\u001b[0m\u001b[1;32m    693\u001b[0m \u001b[0;34m\u001b[0m\u001b[0m\n\u001b[1;32m    694\u001b[0m \u001b[0;34m\u001b[0m\u001b[0m\n",
      "\u001b[0;32m/home/helios/anaconda3/envs/TF/lib/python3.5/site-packages/sklearn/metrics/classification.py\u001b[0m in \u001b[0;36mfbeta_score\u001b[0;34m(y_true, y_pred, beta, labels, pos_label, average, sample_weight)\u001b[0m\n\u001b[1;32m    804\u001b[0m                                                  \u001b[0maverage\u001b[0m\u001b[0;34m=\u001b[0m\u001b[0maverage\u001b[0m\u001b[0;34m,\u001b[0m\u001b[0;34m\u001b[0m\u001b[0m\n\u001b[1;32m    805\u001b[0m                                                  \u001b[0mwarn_for\u001b[0m\u001b[0;34m=\u001b[0m\u001b[0;34m(\u001b[0m\u001b[0;34m'f-score'\u001b[0m\u001b[0;34m,\u001b[0m\u001b[0;34m)\u001b[0m\u001b[0;34m,\u001b[0m\u001b[0;34m\u001b[0m\u001b[0m\n\u001b[0;32m--> 806\u001b[0;31m                                                  sample_weight=sample_weight)\n\u001b[0m\u001b[1;32m    807\u001b[0m     \u001b[0;32mreturn\u001b[0m \u001b[0mf\u001b[0m\u001b[0;34m\u001b[0m\u001b[0m\n\u001b[1;32m    808\u001b[0m \u001b[0;34m\u001b[0m\u001b[0m\n",
      "\u001b[0;32m/home/helios/anaconda3/envs/TF/lib/python3.5/site-packages/sklearn/metrics/classification.py\u001b[0m in \u001b[0;36mprecision_recall_fscore_support\u001b[0;34m(y_true, y_pred, beta, labels, pos_label, average, warn_for, sample_weight)\u001b[0m\n\u001b[1;32m   1016\u001b[0m         \u001b[0;32melse\u001b[0m\u001b[0;34m:\u001b[0m\u001b[0;34m\u001b[0m\u001b[0m\n\u001b[1;32m   1017\u001b[0m             raise ValueError(\"Target is %s but average='binary'. Please \"\n\u001b[0;32m-> 1018\u001b[0;31m                              \"choose another average setting.\" % y_type)\n\u001b[0m\u001b[1;32m   1019\u001b[0m     \u001b[0;32melif\u001b[0m \u001b[0mpos_label\u001b[0m \u001b[0;32mnot\u001b[0m \u001b[0;32min\u001b[0m \u001b[0;34m(\u001b[0m\u001b[0;32mNone\u001b[0m\u001b[0;34m,\u001b[0m \u001b[0;36m1\u001b[0m\u001b[0;34m)\u001b[0m\u001b[0;34m:\u001b[0m\u001b[0;34m\u001b[0m\u001b[0m\n\u001b[1;32m   1020\u001b[0m         warnings.warn(\"Note that pos_label (set to %r) is ignored when \"\n",
      "\u001b[0;31mValueError\u001b[0m: Target is multilabel-indicator but average='binary'. Please choose another average setting."
     ]
    },
    {
     "data": {
      "text/plain": [
       "<matplotlib.figure.Figure at 0x7f735eecf588>"
      ]
     },
     "metadata": {},
     "output_type": "display_data"
    }
   ],
   "source": [
    "city_name = 'Norfolk'\n",
    "ind = 1\n",
    "truthDir = os.path.expanduser(\"~/Documents/data/building/{}\".format(city_name, city_name, ind ))\n",
    "learning_rates = [1e-3]\n",
    "batch_sizes = [20]\n",
    "num_epochs = 30\n",
    "input_size = '128,128'\n",
    "decay_step = 10 # in epochs\n",
    "decay_rate = 0.1\n",
    "IMAGE_SIZE = 128\n",
    "weight_decays = [0.0005, 0.0001]\n",
    "imageFileName = [\"{}_{:0>2}{}\".format(city_name, k, \"{}\") for k in range(1,3) ]\n",
    "\n",
    "for learning_rate in learning_rates:\n",
    "    for batch_size in batch_sizes:\n",
    "        for weight_decay in weight_decays:\n",
    "#             validDir = os.path.join(os.path.realpath('../snapshots_building/train_with_pretrained_model'), 'batchsize{}_learningRate_{:.0e}_weight_decay_{}'.format(batch_size, learning_rate, weight_decay),'images') # older format           \n",
    "            validDir = os.path.join(os.path.realpath('../snapshots_building/train_with_pretrained_model'), '{}_{:0>2}_batchsize{}_learningRate_{:.0e}_L2weight_{}_decayStep_{:d}_decayRate{}'.format(city_name, ind, batch_size, learning_rate, weight_decay, decay_step, decay_rate),'images')\n",
    "            seg_metric = SegMetric(1)\n",
    "            plt.figure(\"PR Curve batchsize{} LR{:.0e} weight_decay{}\".format(batch_size, learning_rate, weight_decay))\n",
    "            print(\"Evaluate batchsize{} LR{:.0e} weight_decay{}\".format(batch_size, learning_rate, weight_decay))\n",
    "            for i in range(0, 2):\n",
    "                image = misc.imread(os.path.join(truthDir,imageFileName[i].format('_RGB.png')))\n",
    "                truth = (misc.imread(os.path.join(truthDir,imageFileName[i].format('_truth.png')))/255).astype(np.uint8)\n",
    "                valid_pmap = misc.imread(os.path.join(validDir,imageFileName[i].format('_valid_pmap.tif')))\n",
    "                pred_binary = misc.imread(os.path.join(validDir,imageFileName[i].format('_valid_pred.png')))\n",
    "                pred_binary = (valid_pmap>0.5).astype(np.uint8)\n",
    "                \n",
    "                print(np.unique(truth))\n",
    "#                 print(f1_score(truth, pred_binary))\n",
    "                \n",
    "                seg_metric.add_image_pair(pred_binary, truth)\n",
    "                print(\"mean_IoU of image {}: {:.4f}\".format(imageFileName[i][0:-2],mean_IU(pred_binary, truth)))            \n",
    "                      \n",
    "                # plot PR curve\n",
    "                plt.figure(\"PR Curve batchsize{} LR{:.0e} weight_decay{}\".format(batch_size, learning_rate, weight_decay))\n",
    "                precision, recall, thresholds = precision_recall_curve(truth.flatten(), valid_pmap.flatten(), 1)\n",
    "                plt.plot(recall, precision, lw=2,\n",
    "                         label=imageFileName[i][0:-2])\n",
    "                plt.legend()\n",
    "                plt.xlabel('Recall')\n",
    "                plt.ylabel('Precision')\n",
    "                plt.ylim([0.0, 1.05])\n",
    "                plt.xlim([0.0, 1.0])\n",
    "                plt.title('Precision-Recal')\n",
    "                \n",
    "            print(\"Overal mean IoU of batchsize{} LR{:.0e}: {:.4f}\".format(batch_size, learning_rate, seg_metric.mean_IU()))"
   ]
  },
  {
   "cell_type": "markdown",
   "metadata": {},
   "source": [
    "## visualize results in patches"
   ]
  },
  {
   "cell_type": "code",
   "execution_count": null,
   "metadata": {
    "collapsed": true
   },
   "outputs": [],
   "source": [
    "from sklearn.metrics import precision_recall_curve\n",
    "from scipy.ndimage.measurements import *\n",
    "from skimage import measure\n",
    "\n",
    "# image files\n",
    "city_name = 'Norfolk'\n",
    "ind = 1\n",
    "truthDir = os.path.expanduser(\"~/Documents/data/building/{}\".format(city_name, city_name, ind ))\n",
    "imageFileName = [\"{}_{:0>2}{}\".format(city_name, k, \"{}\") for k in range(1,3) ]\n",
    "\n",
    "learning_rates = [1e-3]\n",
    "batch_sizes = [20]\n",
    "num_epochs = 30\n",
    "input_size = '128,128'\n",
    "decay_step = 10 # in epochs\n",
    "decay_rate = 0.1\n",
    "IMAGE_SIZE = 128\n",
    "weight_decays = [0.0005, 0.0001]\n"
   ]
  }
 ],
 "metadata": {
  "anaconda-cloud": {},
  "kernelspec": {
   "display_name": "Python [conda env:TF]",
   "language": "python",
   "name": "conda-env-TF-py"
  },
  "language_info": {
   "codemirror_mode": {
    "name": "ipython",
    "version": 3
   },
   "file_extension": ".py",
   "mimetype": "text/x-python",
   "name": "python",
   "nbconvert_exporter": "python",
   "pygments_lexer": "ipython3",
   "version": "3.5.2"
  }
 },
 "nbformat": 4,
 "nbformat_minor": 2
}
